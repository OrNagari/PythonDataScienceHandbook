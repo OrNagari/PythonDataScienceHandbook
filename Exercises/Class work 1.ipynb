{
 "cells": [
  {
   "cell_type": "markdown",
   "id": "2e89b8db-86b2-40f3-a852-525f36390996",
   "metadata": {},
   "source": [
    "# Class work 1"
   ]
  },
  {
   "cell_type": "markdown",
   "id": "699760bd-c742-44c5-87ff-882504e50830",
   "metadata": {},
   "source": [
    "## String formatting"
   ]
  },
  {
   "cell_type": "markdown",
   "id": "ceec1c7b-42c0-4e81-8bdf-57e5200d8c06",
   "metadata": {},
   "source": [
    "### Formatting using `.format()`"
   ]
  },
  {
   "cell_type": "markdown",
   "id": "9ab16e6b-7bec-4861-aec3-a013d9461c4b",
   "metadata": {},
   "source": [
    "Using the `.format()` method, complete the code to acheive:\n",
    "```python\n",
    "\"This is Alice and this is Bob\"\n",
    "```"
   ]
  },
  {
   "cell_type": "code",
   "execution_count": 6,
   "id": "2ab9cd86-69c6-4336-8a0a-bf134efa8daa",
   "metadata": {},
   "outputs": [
    {
     "name": "stdout",
     "output_type": "stream",
     "text": [
      "\n"
     ]
    }
   ],
   "source": [
    "names = 'Alice', 'Bob'\n",
    "print() # Your code here"
   ]
  },
  {
   "cell_type": "markdown",
   "id": "7327804a-f091-47b1-8859-b656357ff04c",
   "metadata": {},
   "source": [
    "Without changing the `names` variable, acheive the following print:"
   ]
  },
  {
   "cell_type": "markdown",
   "id": "95665d08-0364-43aa-9ac5-475273447752",
   "metadata": {},
   "source": [
    "```python\n",
    "\"This is Bob and this is Alice\"\n",
    "```"
   ]
  },
  {
   "cell_type": "markdown",
   "id": "a8aa44dd-bf24-4958-a2c5-f748f86a392b",
   "metadata": {},
   "source": [
    "### Format using f-strings"
   ]
  },
  {
   "cell_type": "markdown",
   "id": "e8dff223-ebef-461d-bac2-afdd07a4546e",
   "metadata": {},
   "source": [
    "1. Acheive the results above using f-strings."
   ]
  },
  {
   "cell_type": "markdown",
   "id": "812fcf81-e1de-49a5-be2d-e216ccb04233",
   "metadata": {},
   "source": [
    "2. use f-strings to achieve the following print, without adding more variables:"
   ]
  },
  {
   "cell_type": "code",
   "execution_count": 7,
   "id": "fbbc246e-c140-48a9-86f9-26d15361ad9f",
   "metadata": {},
   "outputs": [],
   "source": [
    "a = 5\n",
    "b = 10"
   ]
  },
  {
   "cell_type": "markdown",
   "id": "581412cd-e837-46f5-9c0b-0064821c0a79",
   "metadata": {},
   "source": [
    "Expected output:\n",
    "```python\n",
    "'Five plus ten is 15 and not 5.'\n",
    "```"
   ]
  },
  {
   "cell_type": "markdown",
   "id": "888035ac-e28c-4aa4-975c-359aba36b4e7",
   "metadata": {},
   "source": [
    "### Format using string concatination"
   ]
  },
  {
   "cell_type": "markdown",
   "id": "36ee3b2d-1f8d-4e63-9dd6-deeb45c30acc",
   "metadata": {},
   "source": [
    "3. Achieve the same print using string concatination only - what's the difference? "
   ]
  },
  {
   "cell_type": "markdown",
   "id": "14f0bdeb-5bb4-4fdb-b7a0-66469627ad31",
   "metadata": {},
   "source": [
    "**Which formating method do you like the most?** "
   ]
  },
  {
   "cell_type": "markdown",
   "id": "cd3dacc4-5486-4f30-9afe-741e5178904c",
   "metadata": {},
   "source": [
    "## Coding questions"
   ]
  },
  {
   "cell_type": "markdown",
   "id": "c8ac84be-7db5-41a6-9cf3-efa6888f5c84",
   "metadata": {},
   "source": [
    "Write a one-liner to count the number of capital letters in a list of sentences. The code should work even if the file is too big to fit in memory."
   ]
  },
  {
   "cell_type": "markdown",
   "id": "fa113972-414c-4931-949c-aa7509327a6e",
   "metadata": {},
   "source": [
    "i.e. instead of:\n",
    "\n",
    "```python\n",
    "    text = [['This is line one'],\n",
    "            ['And this is line 2'],\n",
    "            ['And this is the third and Final line']]\n",
    "    for line in text:\n",
    "        for character in line:\n",
    "            if character.isupper():\n",
    "                count += 1\n",
    "```\n",
    "\n",
    "Write a one-liner that achieve the same result. "
   ]
  },
  {
   "cell_type": "markdown",
   "id": "c110f182-8fea-4e6b-bd21-3d57c2e08422",
   "metadata": {},
   "source": [
    "## File system"
   ]
  },
  {
   "cell_type": "markdown",
   "id": "4f16fa30-2519-42c1-b6cb-1fa086cff837",
   "metadata": {},
   "source": [
    "#### List all the files in the data folder"
   ]
  },
  {
   "cell_type": "code",
   "execution_count": 12,
   "id": "77eb4aa6-af25-4ab9-b2e7-eb10f121519b",
   "metadata": {},
   "outputs": [],
   "source": [
    "# your code here"
   ]
  },
  {
   "cell_type": "markdown",
   "id": "1a1b716c-3c70-4f70-8e43-8ee1c6589a2a",
   "metadata": {},
   "source": [
    "Expected output:\n",
    "```\n",
    "['data/folder_2/file_1_folder_2.txt',\n",
    " 'data/folder_2/file_2_folder_2.txt',\n",
    " 'data/folder_1/file_1_folder_1.txt',\n",
    " 'data/folder_1/file_2_folder_1.txt']\n",
    "```"
   ]
  },
  {
   "cell_type": "markdown",
   "id": "21992fed-cad5-400f-ae02-584ca0c009a6",
   "metadata": {},
   "source": [
    "### move all the files from folder 1 to folder 2 and vice versa"
   ]
  }
 ],
 "metadata": {
  "kernelspec": {
   "display_name": "Python 3",
   "language": "python",
   "name": "python3"
  },
  "language_info": {
   "codemirror_mode": {
    "name": "ipython",
    "version": 3
   },
   "file_extension": ".py",
   "mimetype": "text/x-python",
   "name": "python",
   "nbconvert_exporter": "python",
   "pygments_lexer": "ipython3",
   "version": "3.8.8"
  }
 },
 "nbformat": 4,
 "nbformat_minor": 5
}
