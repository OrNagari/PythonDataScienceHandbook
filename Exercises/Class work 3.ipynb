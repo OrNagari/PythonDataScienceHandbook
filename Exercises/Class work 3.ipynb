{
 "cells": [
  {
   "cell_type": "markdown",
   "id": "04cbc3cc-9e26-416d-8534-9f4b87a08f89",
   "metadata": {},
   "source": [
    "# Class work 3"
   ]
  },
  {
   "cell_type": "code",
   "execution_count": 1,
   "id": "3ff9a6aa-4fc2-4ff4-976e-61c90f4624ed",
   "metadata": {},
   "outputs": [],
   "source": [
    "columns = ['user_id', 'op_type', 'revenue']\n",
    "data = [('1', 'call', 10.0),\n",
    "        ('1', 'call', 12.3),\n",
    "        ('1', 'video', 30.),\n",
    "        ('2', 'call', 11.),\n",
    "        ('2', 'video', 22.3),\n",
    "       ('2', 'video', 32.3),\n",
    "       ('2', 'call', 11.7)]"
   ]
  },
  {
   "cell_type": "markdown",
   "id": "86500386-f813-4f88-9840-c9f81d343224",
   "metadata": {},
   "source": [
    "Create a **Python** implementation of a function called `calc_revenue(data, dimension)` that recieves a data object as above, and a one or more breakdown dimensions. The function compute the total revenue in requested dimensions. If dimension is None - it'll calculated the total revenue"
   ]
  },
  {
   "cell_type": "markdown",
   "id": "5169e238-b243-49fd-9f17-2249121a1c94",
   "metadata": {},
   "source": [
    "Output exampels:"
   ]
  },
  {
   "cell_type": "markdown",
   "id": "2cb7877a-771f-4d07-a465-366dc9668853",
   "metadata": {},
   "source": [
    "```python\n",
    "calc_revenue(data) - returns 129.6\n",
    "\n",
    "calc_revenue(data, ['user_id']) - returns {'1': 52.3, '2': 77.3}\n",
    "\n",
    "calc_revenue(data, ['op_type']) - returns {'call': 45.0, 'video': 84.6}\n",
    "\n",
    "calc_revenue(data, ['user_id', 'op_type']) - returns \n",
    "{('1', 'call'): 22.3,\n",
    " ('1', 'video'): 30.0,\n",
    " ('2', 'call'): 22.7,\n",
    " ('2', 'video'): 54.599999999999994}\n",
    "```"
   ]
  }
 ],
 "metadata": {
  "kernelspec": {
   "display_name": "Python 3",
   "language": "python",
   "name": "python3"
  },
  "language_info": {
   "codemirror_mode": {
    "name": "ipython",
    "version": 3
   },
   "file_extension": ".py",
   "mimetype": "text/x-python",
   "name": "python",
   "nbconvert_exporter": "python",
   "pygments_lexer": "ipython3",
   "version": "3.8.8"
  }
 },
 "nbformat": 4,
 "nbformat_minor": 5
}
