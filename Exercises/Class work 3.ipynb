{
 "cells": [
  {
   "cell_type": "markdown",
   "id": "04cbc3cc-9e26-416d-8534-9f4b87a08f89",
   "metadata": {},
   "source": [
    "# Class work 3"
   ]
  },
  {
   "cell_type": "code",
   "execution_count": 1,
   "id": "3ff9a6aa-4fc2-4ff4-976e-61c90f4624ed",
   "metadata": {},
   "outputs": [],
   "source": [
    "columns = ['user_id', 'op_type', 'revenue']\n",
    "data = [('1', 'call', 10.0),\n",
    "        ('1', 'call', 12.3),\n",
    "        ('1', 'video', 30.),\n",
    "        ('2', 'call', 11.),\n",
    "        ('2', 'video', 22.3),\n",
    "       ('2', 'video', 32.3),\n",
    "       ('2', 'call', 11.7)]"
   ]
  },
  {
   "cell_type": "code",
   "execution_count": 2,
   "id": "dad87e26-a5c9-4c22-9ac9-a0b8fc7517fd",
   "metadata": {},
   "outputs": [
    {
     "data": {
      "text/html": [
       "<div>\n",
       "<style scoped>\n",
       "    .dataframe tbody tr th:only-of-type {\n",
       "        vertical-align: middle;\n",
       "    }\n",
       "\n",
       "    .dataframe tbody tr th {\n",
       "        vertical-align: top;\n",
       "    }\n",
       "\n",
       "    .dataframe thead th {\n",
       "        text-align: right;\n",
       "    }\n",
       "</style>\n",
       "<table border=\"1\" class=\"dataframe\">\n",
       "  <thead>\n",
       "    <tr style=\"text-align: right;\">\n",
       "      <th></th>\n",
       "      <th>user_id</th>\n",
       "      <th>op_type</th>\n",
       "      <th>revenue</th>\n",
       "    </tr>\n",
       "  </thead>\n",
       "  <tbody>\n",
       "    <tr>\n",
       "      <th>0</th>\n",
       "      <td>1</td>\n",
       "      <td>call</td>\n",
       "      <td>10.0</td>\n",
       "    </tr>\n",
       "    <tr>\n",
       "      <th>1</th>\n",
       "      <td>1</td>\n",
       "      <td>call</td>\n",
       "      <td>12.3</td>\n",
       "    </tr>\n",
       "    <tr>\n",
       "      <th>2</th>\n",
       "      <td>1</td>\n",
       "      <td>video</td>\n",
       "      <td>30.0</td>\n",
       "    </tr>\n",
       "    <tr>\n",
       "      <th>3</th>\n",
       "      <td>2</td>\n",
       "      <td>call</td>\n",
       "      <td>11.0</td>\n",
       "    </tr>\n",
       "    <tr>\n",
       "      <th>4</th>\n",
       "      <td>2</td>\n",
       "      <td>video</td>\n",
       "      <td>22.3</td>\n",
       "    </tr>\n",
       "    <tr>\n",
       "      <th>5</th>\n",
       "      <td>2</td>\n",
       "      <td>video</td>\n",
       "      <td>32.3</td>\n",
       "    </tr>\n",
       "    <tr>\n",
       "      <th>6</th>\n",
       "      <td>2</td>\n",
       "      <td>call</td>\n",
       "      <td>11.7</td>\n",
       "    </tr>\n",
       "  </tbody>\n",
       "</table>\n",
       "</div>"
      ],
      "text/plain": [
       "  user_id op_type  revenue\n",
       "0       1    call     10.0\n",
       "1       1    call     12.3\n",
       "2       1   video     30.0\n",
       "3       2    call     11.0\n",
       "4       2   video     22.3\n",
       "5       2   video     32.3\n",
       "6       2    call     11.7"
      ]
     },
     "execution_count": 2,
     "metadata": {},
     "output_type": "execute_result"
    }
   ],
   "source": [
    "import pandas as pd\n",
    "df = pd.DataFrame(data, columns=columns)\n",
    "df"
   ]
  },
  {
   "cell_type": "markdown",
   "id": "86500386-f813-4f88-9840-c9f81d343224",
   "metadata": {},
   "source": [
    "Create a **Python** implementation of a function called `calc_revenue(data, dimension)` that recieves a data object as above, and a one or more breakdown dimensions. The function compute the total revenue in requested dimensions. If dimension is None - it'll calculated the total revenue"
   ]
  },
  {
   "cell_type": "markdown",
   "id": "5169e238-b243-49fd-9f17-2249121a1c94",
   "metadata": {},
   "source": [
    "Output exampels:"
   ]
  },
  {
   "cell_type": "markdown",
   "id": "2cb7877a-771f-4d07-a465-366dc9668853",
   "metadata": {},
   "source": [
    "```python\n",
    "calc_revenue(data) - returns 129.6\n",
    "calc_revenue(data, ['user_id']) - returns {'1': 52.3, '2': 77.3}\n",
    "calc_revenue(data, ['op_type']) - returns {'call': 45.0, 'video': 84.6}\n",
    "calc_revenue(data, ['user_id', 'op_type']) - returns {('1', 'call'): 22.3,\n",
    " ('1', 'video'): 30.0,\n",
    " ('2', 'call'): 22.7,\n",
    " ('2', 'video'): 54.599999999999994}\n",
    "```"
   ]
  },
  {
   "cell_type": "code",
   "execution_count": 12,
   "id": "f121bb12-61ba-4bb3-bcb8-92921dcf8bac",
   "metadata": {},
   "outputs": [
    {
     "data": {
      "text/plain": [
       "{('1', 'call'): 22.3,\n",
       " ('1', 'video'): 30.0,\n",
       " ('2', 'call'): 22.7,\n",
       " ('2', 'video'): 54.599999999999994}"
      ]
     },
     "execution_count": 12,
     "metadata": {},
     "output_type": "execute_result"
    }
   ],
   "source": [
    "df.groupby(['user_id', 'op_type']).revenue.sum().to_dict()"
   ]
  },
  {
   "cell_type": "code",
   "execution_count": null,
   "id": "ffe7d01b-d6a0-4472-b5b9-c8ab4ee870fe",
   "metadata": {},
   "outputs": [],
   "source": []
  }
 ],
 "metadata": {
  "kernelspec": {
   "display_name": "Python 3",
   "language": "python",
   "name": "python3"
  },
  "language_info": {
   "codemirror_mode": {
    "name": "ipython",
    "version": 3
   },
   "file_extension": ".py",
   "mimetype": "text/x-python",
   "name": "python",
   "nbconvert_exporter": "python",
   "pygments_lexer": "ipython3",
   "version": "3.8.8"
  }
 },
 "nbformat": 4,
 "nbformat_minor": 5
}
