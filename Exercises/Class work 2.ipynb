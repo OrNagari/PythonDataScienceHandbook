{
 "cells": [
  {
   "cell_type": "markdown",
   "id": "04cbc3cc-9e26-416d-8534-9f4b87a08f89",
   "metadata": {},
   "source": [
    "# Class work 2"
   ]
  },
  {
   "cell_type": "code",
   "execution_count": 2,
   "id": "3ff9a6aa-4fc2-4ff4-976e-61c90f4624ed",
   "metadata": {},
   "outputs": [],
   "source": [
    "data = [(10, 1, 10, 10.0),\n",
    "        (10, 2, 20, 5.0),\n",
    "        (10, 3, 30, 3.3333333333333335),\n",
    "        (11, 1, 11, 11.0),\n",
    "        (11, 2, 22, 5.5)]"
   ]
  },
  {
   "cell_type": "markdown",
   "id": "86500386-f813-4f88-9840-c9f81d343224",
   "metadata": {},
   "source": [
    "Create a function `calc_mean(data, indices)` that recieves a data object as above, and a one or more indices. The function compute the mean of the columns in the selected indices. For example:"
   ]
  },
  {
   "cell_type": "markdown",
   "id": "54db96a7-6274-48ad-bea4-18fa48a452f9",
   "metadata": {},
   "source": [
    "calc_mean(data, 0): 10.4  \n",
    "calc_mean(data, [0,1]: (10.4, 1.8)  \n",
    "calc_mean(data, [0,1,2]: (10.4, 1.8, 18.6)  "
   ]
  },
  {
   "cell_type": "markdown",
   "id": "06841aeb-054e-4d0b-94bd-14a20a9f33be",
   "metadata": {},
   "source": [
    "If the indices are above of below the data shape, the function should print an error message and return nothing"
   ]
  }
 ],
 "metadata": {
  "kernelspec": {
   "display_name": "Python 3",
   "language": "python",
   "name": "python3"
  },
  "language_info": {
   "codemirror_mode": {
    "name": "ipython",
    "version": 3
   },
   "file_extension": ".py",
   "mimetype": "text/x-python",
   "name": "python",
   "nbconvert_exporter": "python",
   "pygments_lexer": "ipython3",
   "version": "3.8.8"
  }
 },
 "nbformat": 4,
 "nbformat_minor": 5
}
